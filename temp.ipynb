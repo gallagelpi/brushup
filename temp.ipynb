{
 "cells": [
  {
   "cell_type": "code",
   "execution_count": 1,
   "metadata": {},
   "outputs": [],
   "source": [
    "\n",
    "def c_to_f(celsius):\n",
    "\n",
    "    results = []\n",
    "\n",
    "    for elem in celsius:\n",
    "        \n",
    "        if not isinstance(elem, (int, float)):\n",
    "\n",
    "            return \"ERROR: All inputs must be numbers\"\n",
    "        \n",
    "        fahrenheit = elem * 9/5 + 32\n",
    "        results.append(f\"{elem} degrees celsius is equal to {fahrenheit} degrees fahrenheit\")\n",
    "\n",
    "    return results\n"
   ]
  },
  {
   "cell_type": "code",
   "execution_count": 2,
   "metadata": {},
   "outputs": [
    {
     "name": "stdout",
     "output_type": "stream",
     "text": [
      "['15 degrees celsius is equal to 59.0 degrees fahrenheit', '2 degrees celsius is equal to 35.6 degrees fahrenheit', '3 degrees celsius is equal to 37.4 degrees fahrenheit', '1 degrees celsius is equal to 33.8 degrees fahrenheit', '3 degrees celsius is equal to 37.4 degrees fahrenheit']\n"
     ]
    }
   ],
   "source": [
    "cel = [15, 2, 3 , 1, 3]\n",
    "\n",
    "print(c_to_f(cel))"
   ]
  },
  {
   "cell_type": "code",
   "execution_count": 3,
   "metadata": {},
   "outputs": [
    {
     "name": "stdout",
     "output_type": "stream",
     "text": [
      "ERROR: All inputs must be numbers\n"
     ]
    }
   ],
   "source": [
    "cel = \"hola\"\n",
    "print(c_to_f(cel))"
   ]
  },
  {
   "cell_type": "code",
   "execution_count": 4,
   "metadata": {},
   "outputs": [
    {
     "name": "stdout",
     "output_type": "stream",
     "text": [
      "['1 degrees celsius is equal to 33.8 degrees fahrenheit']\n"
     ]
    }
   ],
   "source": [
    "cel = [1]\n",
    "print(c_to_f(cel))"
   ]
  },
  {
   "cell_type": "code",
   "execution_count": 5,
   "metadata": {},
   "outputs": [
    {
     "name": "stdout",
     "output_type": "stream",
     "text": [
      "HOLA!\n"
     ]
    }
   ],
   "source": [
    "print(\"HOLA!\")"
   ]
  },
  {
   "cell_type": "code",
   "execution_count": null,
   "metadata": {},
   "outputs": [],
   "source": []
  }
 ],
 "metadata": {
  "kernelspec": {
   "display_name": "brushup",
   "language": "python",
   "name": "brushup"
  },
  "language_info": {
   "codemirror_mode": {
    "name": "ipython",
    "version": 3
   },
   "file_extension": ".py",
   "mimetype": "text/x-python",
   "name": "python",
   "nbconvert_exporter": "python",
   "pygments_lexer": "ipython3",
   "version": "3.13.5"
  }
 },
 "nbformat": 4,
 "nbformat_minor": 2
}
