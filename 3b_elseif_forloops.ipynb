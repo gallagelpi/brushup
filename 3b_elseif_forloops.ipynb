{
 "cells": [
  {
   "cell_type": "markdown",
   "metadata": {},
   "source": [
    "## If else vs if elif"
   ]
  },
  {
   "cell_type": "markdown",
   "metadata": {},
   "source": [
    "Key Difference:\n",
    "- `if-else` is a binary decision (either one condition or the other).\n",
    "- `if-elif-else` allows multiple conditions to be checked in sequence, providing more flexibility to handle several different cases."
   ]
  },
  {
   "cell_type": "code",
   "execution_count": 16,
   "metadata": {},
   "outputs": [
    {
     "name": "stdout",
     "output_type": "stream",
     "text": [
      "The number is positive\n"
     ]
    }
   ],
   "source": [
    "number = 10\n",
    "\n",
    "if number > 0:\n",
    "    print(\"The number is positive\")\n",
    "else:\n",
    "    print(\"The number is zero or negative\")\n"
   ]
  },
  {
   "cell_type": "code",
   "execution_count": 1,
   "metadata": {},
   "outputs": [
    {
     "name": "stdout",
     "output_type": "stream",
     "text": [
      "The number is negative\n"
     ]
    }
   ],
   "source": [
    "number = -2\n",
    "\n",
    "if number > 0:\n",
    "    print(\"The number is positive\")\n",
    "elif number == 0:\n",
    "    print(\"The number is zero\")\n",
    "else:\n",
    "    print(\"The number is negative\")"
   ]
  },
  {
   "cell_type": "code",
   "execution_count": null,
   "metadata": {},
   "outputs": [],
   "source": [
    "my_list=[True, 1 , 'bse', 5 , False , {}, True]\n",
    "\n",
    "integers_found=0\n",
    "bools_found=0\n",
    "\n",
    "for item in my_list:\n",
    "    if isinstance(item, bool):\n",
    "        bools_found +=1\n",
    "    elif isinstance (item, int):\n",
    "        integers_found +=1\n",
    "        \n",
    "        \n",
    "print(f\"integers_found:{integers_found}, bools_found: {bools_found}\")        \n"
   ]
  },
  {
   "cell_type": "markdown",
   "metadata": {},
   "source": [
    "## Looping fun"
   ]
  },
  {
   "cell_type": "markdown",
   "metadata": {},
   "source": [
    "### While reminder, yield"
   ]
  },
  {
   "cell_type": "code",
   "execution_count": 36,
   "metadata": {},
   "outputs": [
    {
     "name": "stdout",
     "output_type": "stream",
     "text": [
      "Counter is at 0\n",
      "Counter is at 1\n",
      "Counter is at 2\n",
      "Counter is at 3\n",
      "Counter is at 4\n"
     ]
    }
   ],
   "source": [
    "counter = 0\n",
    "while counter < 5:\n",
    "    print(f\"Counter is at {counter}\")\n",
    "    counter += 1"
   ]
  },
  {
   "cell_type": "code",
   "execution_count": 37,
   "metadata": {},
   "outputs": [
    {
     "name": "stdout",
     "output_type": "stream",
     "text": [
      "6\n",
      "5\n",
      "4\n",
      "3\n",
      "2\n",
      "1\n"
     ]
    }
   ],
   "source": [
    "def countdown(n):\n",
    "    while n > 0:\n",
    "        yield n\n",
    "        n -= 1  # short for n = n - 1, also works with +=, *=, /=\n",
    "\n",
    "\n",
    "for num in countdown(6):\n",
    "    print(num)"
   ]
  },
  {
   "cell_type": "markdown",
   "metadata": {},
   "source": [
    "### Strings, range, lists, set, tuple"
   ]
  },
  {
   "cell_type": "markdown",
   "metadata": {},
   "source": [
    "We can loop over any iterable, including a `string`:"
   ]
  },
  {
   "cell_type": "code",
   "execution_count": 3,
   "metadata": {},
   "outputs": [
    {
     "name": "stdout",
     "output_type": "stream",
     "text": [
      "h\n",
      "e\n",
      "l\n",
      "l\n",
      "o\n"
     ]
    }
   ],
   "source": [
    "for i in \"hello\":\n",
    "    print(i)"
   ]
  },
  {
   "cell_type": "markdown",
   "metadata": {},
   "source": [
    "`Range`: why does it stop at 4?"
   ]
  },
  {
   "cell_type": "code",
   "execution_count": 2,
   "metadata": {},
   "outputs": [
    {
     "name": "stdout",
     "output_type": "stream",
     "text": [
      "0\n",
      "1\n",
      "2\n",
      "3\n",
      "4\n"
     ]
    }
   ],
   "source": [
    "for thing in range(5):\n",
    "    print(thing)"
   ]
  },
  {
   "cell_type": "markdown",
   "metadata": {},
   "source": [
    "Lists: pay particular attention to the way we can loop over two lists at once with `zip()` or also extract the index with `enumerate()`"
   ]
  },
  {
   "cell_type": "code",
   "execution_count": 11,
   "metadata": {},
   "outputs": [
    {
     "name": "stdout",
     "output_type": "stream",
     "text": [
      "Alice\n",
      "Bob\n",
      "Charlie\n",
      "David\n",
      "Eva\n"
     ]
    }
   ],
   "source": [
    "names = ['Alice', 'Bob', 'Charlie', 'David', 'Eva']\n",
    "\n",
    "for name in names:\n",
    "    print(name)"
   ]
  },
  {
   "cell_type": "code",
   "execution_count": 10,
   "metadata": {},
   "outputs": [
    {
     "name": "stdout",
     "output_type": "stream",
     "text": [
      "True :       <class 'bool'>\n",
      "1 :       <class 'int'>\n",
      "bse :       <class 'str'>\n",
      "5 :       <class 'int'>\n",
      "False :       <class 'bool'>\n",
      "{} :       <class 'dict'>\n",
      "True :       <class 'bool'>\n"
     ]
    }
   ],
   "source": [
    "my_list=[True, 1 , 'bse', 5 , False , {}, True]\n",
    "\n",
    "for item in my_list:\n",
    "    print(item, ':      ', type(item))"
   ]
  },
  {
   "cell_type": "code",
   "execution_count": 5,
   "metadata": {},
   "outputs": [
    {
     "name": "stdout",
     "output_type": "stream",
     "text": [
      "True  -  True  is bool\n",
      "False  -  1  is bool\n",
      "False  -  bse  is bool\n",
      "False  -  5  is bool\n",
      "True  -  False  is bool\n",
      "False  -  {}  is bool\n",
      "True  -  True  is bool\n"
     ]
    }
   ],
   "source": [
    "for item in my_list:\n",
    "    print(isinstance(item, bool), ' - ', item , ' is bool')"
   ]
  },
  {
   "cell_type": "code",
   "execution_count": 13,
   "metadata": {},
   "outputs": [
    {
     "name": "stdout",
     "output_type": "stream",
     "text": [
      "Age: 24, Score: 85\n",
      "Age: 27, Score: 90\n",
      "Age: 22, Score: 88\n",
      "Age: 32, Score: 95\n",
      "Age: 29, Score: 80\n"
     ]
    }
   ],
   "source": [
    "ages = [24, 27, 22, 32, 29]\n",
    "scores = [85, 90, 88, 95, 80]\n",
    "\n",
    "for age, score in zip(ages, scores):\n",
    "    print(f\"Age: {age}, Score: {score}\")"
   ]
  },
  {
   "cell_type": "code",
   "execution_count": 14,
   "metadata": {},
   "outputs": [
    {
     "name": "stdout",
     "output_type": "stream",
     "text": [
      "Index 0: Alice\n",
      "Index 1: Bob\n",
      "Index 2: Charlie\n",
      "Index 3: David\n",
      "Index 4: Eva\n"
     ]
    }
   ],
   "source": [
    "names = ['Alice', 'Bob', 'Charlie', 'David', 'Eva']\n",
    "\n",
    "for index, name in enumerate(names):\n",
    "    print(f\"Index {index}: {name}\")"
   ]
  },
  {
   "cell_type": "code",
   "execution_count": 21,
   "metadata": {},
   "outputs": [
    {
     "name": "stdout",
     "output_type": "stream",
     "text": [
      "1\n",
      "2\n",
      "3\n",
      "4\n",
      "5\n"
     ]
    }
   ],
   "source": [
    "unique_numbers = {1, 2, 3, 4, 5}\n",
    "for num in unique_numbers:\n",
    "    print(num)"
   ]
  },
  {
   "cell_type": "code",
   "execution_count": 22,
   "metadata": {},
   "outputs": [
    {
     "name": "stdout",
     "output_type": "stream",
     "text": [
      "aa\n",
      "12\n"
     ]
    }
   ],
   "source": [
    "my_tuple = ('a', 6)\n",
    "\n",
    "for val in my_tuple:\n",
    "    print(val * 2)"
   ]
  },
  {
   "cell_type": "markdown",
   "metadata": {},
   "source": [
    "### Dataframes and dictionaries"
   ]
  },
  {
   "cell_type": "code",
   "execution_count": 19,
   "metadata": {},
   "outputs": [],
   "source": [
    "import pandas as pd\n",
    "# Example data\n",
    "data = {\n",
    "    'Name': ['Alice', 'Bob', 'Charlie', 'David', 'Eva'],\n",
    "    'Age': [24, 27, 22, 32, 29],\n",
    "    'Score': [85, 90, 88, 95, 80]\n",
    "}\n",
    "\n",
    "# Create a DataFrame\n",
    "df = pd.DataFrame(data)"
   ]
  },
  {
   "cell_type": "code",
   "execution_count": 18,
   "metadata": {},
   "outputs": [
    {
     "name": "stdout",
     "output_type": "stream",
     "text": [
      "<class 'pandas.core.series.Series'>\n",
      "True\n",
      "True\n",
      "True\n",
      "False\n",
      "True\n"
     ]
    }
   ],
   "source": [
    "series_age = df.Age\n",
    "\n",
    "print(type(series_age))\n",
    "\n",
    "for a in series_age:\n",
    "    print(a < 30)"
   ]
  },
  {
   "cell_type": "code",
   "execution_count": 26,
   "metadata": {},
   "outputs": [
    {
     "name": "stdout",
     "output_type": "stream",
     "text": [
      "0 Name: Alice, Age: 24, Score: 85\n",
      "1 Name: Bob, Age: 27, Score: 90\n",
      "2 Name: Charlie, Age: 22, Score: 88\n",
      "3 Name: David, Age: 32, Score: 95\n",
      "4 Name: Eva, Age: 29, Score: 80\n"
     ]
    }
   ],
   "source": [
    "for index, row in df.iterrows():\n",
    "    print(f\"{index} Name: {row['Name']}, Age: {row['Age']}, Score: {row['Score']}\")"
   ]
  },
  {
   "cell_type": "markdown",
   "metadata": {},
   "source": [
    "What needs to change so that David gets a sensible category?"
   ]
  },
  {
   "cell_type": "code",
   "execution_count": 27,
   "metadata": {},
   "outputs": [
    {
     "name": "stdout",
     "output_type": "stream",
     "text": [
      "      Name  Age  Score Category\n",
      "0    Alice   24     85    Young\n",
      "1      Bob   27     90  Mid-age\n",
      "2  Charlie   22     88    Young\n",
      "3    David   32     95     None\n",
      "4      Eva   29     80  Mid-age\n"
     ]
    }
   ],
   "source": [
    "def age_category(age):\n",
    "    if age < 25:\n",
    "        return 'Young'\n",
    "    elif age < 30:\n",
    "        return 'Mid-age'\n",
    "    elif age > 60:\n",
    "        return 'Senior'\n",
    "\n",
    "df['Category'] = df['Age'].apply(age_category)\n",
    "print(df)"
   ]
  },
  {
   "cell_type": "code",
   "execution_count": 30,
   "metadata": {},
   "outputs": [
    {
     "name": "stdout",
     "output_type": "stream",
     "text": [
      "Student: Alice\n",
      "Student: Bob\n",
      "Student: Charlie\n",
      "Student: David\n",
      "Student: Eva\n",
      "values: 85\n",
      "values: 90\n",
      "values: 88\n",
      "values: 95\n",
      "values: 80\n",
      "Student: Alice, Score: 85\n",
      "Student: Bob, Score: 90\n",
      "Student: Charlie, Score: 88\n",
      "Student: David, Score: 95\n",
      "Student: Eva, Score: 80\n"
     ]
    }
   ],
   "source": [
    "student_dict = {\n",
    "    'Alice': 85,\n",
    "    'Bob': 90,\n",
    "    'Charlie': 88,\n",
    "    'David': 95,\n",
    "    'Eva': 80\n",
    "}\n",
    "\n",
    "for student in student_dict.keys():\n",
    "    print(f\"Student: {student}\")\n",
    "\n",
    "for values in student_dict.values():\n",
    "    print(f\"values: {values}\")\n",
    "\n",
    "for student, score in student_dict.items():\n",
    "    print(f\"Student: {student}, Score: {score}\")\n"
   ]
  },
  {
   "cell_type": "markdown",
   "metadata": {},
   "source": [
    "### List comprehensions, break, nested structures"
   ]
  },
  {
   "cell_type": "markdown",
   "metadata": {},
   "source": [
    "Re-write the list comprehensions as regular loops. Can you ensure the final output is also in a list format?\n",
    "\n",
    "When to use a list comprehension\n",
    "- Simple transformations: If you’re just applying an expression to each element\n",
    "- With filtering conditions: When you want to include only some elements\n",
    "- One-liners: When the operation is short and clear at a glance\n",
    "- When you need a list as the result: List comprehensions directly create a list, unlike a plain for loop"
   ]
  },
  {
   "cell_type": "code",
   "execution_count": null,
   "metadata": {},
   "outputs": [],
   "source": [
    "squares = [x**2 for x in range(5)]\n",
    "print(squares)"
   ]
  },
  {
   "cell_type": "code",
   "execution_count": 32,
   "metadata": {},
   "outputs": [
    {
     "data": {
      "text/plain": [
       "[0, 2, 4, 6, 8]"
      ]
     },
     "execution_count": 32,
     "metadata": {},
     "output_type": "execute_result"
    }
   ],
   "source": [
    "evens = [x for x in range(10) if x % 2 == 0]\n",
    "evens"
   ]
  },
  {
   "cell_type": "markdown",
   "metadata": {},
   "source": [
    "Not suitable for a list comprehension:"
   ]
  },
  {
   "cell_type": "code",
   "execution_count": 35,
   "metadata": {},
   "outputs": [
    {
     "name": "stdout",
     "output_type": "stream",
     "text": [
      "Divisible by 3: 0\n",
      "Divisible by 3: 9\n",
      "Divisible by 3: 36\n",
      "Divisible by 3: 81\n"
     ]
    },
    {
     "data": {
      "text/plain": [
       "[0, 1, 4, 9, 16, 25, 36, 49, 64, 81]"
      ]
     },
     "execution_count": 35,
     "metadata": {},
     "output_type": "execute_result"
    }
   ],
   "source": [
    "\n",
    "results = []\n",
    "for x in range(10):\n",
    "    y = x**2\n",
    "    if y % 3 == 0:\n",
    "        print(\"Divisible by 3:\", y)\n",
    "    results.append(y)\n",
    "\n",
    "results"
   ]
  },
  {
   "cell_type": "markdown",
   "metadata": {},
   "source": [
    "Adding a break vs continue clause"
   ]
  },
  {
   "cell_type": "code",
   "execution_count": 22,
   "metadata": {},
   "outputs": [
    {
     "name": "stdout",
     "output_type": "stream",
     "text": [
      "1\n",
      "3\n"
     ]
    }
   ],
   "source": [
    "for i in range(10):\n",
    "    if i == 5:\n",
    "        break\n",
    "    elif i % 2 == 0:\n",
    "        continue\n",
    "    print(i)"
   ]
  },
  {
   "cell_type": "markdown",
   "metadata": {},
   "source": [
    "Nested list of lists. Can you loop over a nested dictionary?"
   ]
  },
  {
   "cell_type": "code",
   "execution_count": 23,
   "metadata": {},
   "outputs": [
    {
     "name": "stdout",
     "output_type": "stream",
     "text": [
      "1\n",
      "2\n",
      "3\n",
      "4\n",
      "5\n",
      "6\n",
      "7\n",
      "8\n",
      "9\n"
     ]
    }
   ],
   "source": [
    "matrix = [[1, 2, 3], [4, 5, 6], [7, 8, 9]]\n",
    "for row in matrix:\n",
    "    for element in row:\n",
    "        print(element)"
   ]
  }
 ],
 "metadata": {
  "kernelspec": {
   "display_name": "brushup-2025",
   "language": "python",
   "name": "python3"
  },
  "language_info": {
   "codemirror_mode": {
    "name": "ipython",
    "version": 3
   },
   "file_extension": ".py",
   "mimetype": "text/x-python",
   "name": "python",
   "nbconvert_exporter": "python",
   "pygments_lexer": "ipython3",
   "version": "3.11.12"
  }
 },
 "nbformat": 4,
 "nbformat_minor": 2
}
