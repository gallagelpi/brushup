{
 "cells": [
  {
   "cell_type": "markdown",
   "metadata": {},
   "source": [
    "## Intro"
   ]
  },
  {
   "cell_type": "markdown",
   "metadata": {},
   "source": [
    "This section is written in mark down. Here you can \n",
    "1. Create numbered lists, make words **bold**, *italic*, or ***both***, or in  <span style=\"color:red\"> **colour** </span>\n",
    "- create bullet points lists\n",
    "and highlight `variable_names`\n",
    "\n",
    "Below are some example of things you can do that are just native to python and don't require the import of any libraries into your notebook.\n",
    "\n",
    "Also note that normally you would import all the libraries you need at the start of a .py or of your notebook. Here we make an exception to make it clear what sections use which of the libraries (at least for the first time within the notebook).\n",
    "\n",
    "Ways to run a cell:\n",
    "- Tap on a play button\n",
    "- Use `control (ctrl) + enter` combination (hotkey may be different for other interfaces)\n",
    "- Using `shift + enter` additionally selects the next cell after running the previous one. "
   ]
  },
  {
   "cell_type": "markdown",
   "metadata": {},
   "source": [
    "### Data and sequence types"
   ]
  },
  {
   "cell_type": "markdown",
   "metadata": {},
   "source": [
    "A data type determines a kind of value which may be stored in its instance and which operations can be performed with it.\n",
    "\n",
    "First, let's consider some very basic *built-in* types you will deal with most of the time. \n",
    "\n",
    "* Boolean values: \n",
    "    * <span style=\"color:green\"> bool </span> (boolean) - is a binary variable, either `True` or `False`.\n",
    "* Numeric types: \n",
    "    * <span style=\"color:green\"> int </span> (integer)\n",
    "    * <span style=\"color:green\"> float </span> (floating-point number) - a decimal representation of a real number.\n",
    "* Text sequence type: <span style=\"color:green\"> str </span> (string) \n",
    "* The null object type: <span style=\"color:green\"> None </span>"
   ]
  },
  {
   "cell_type": "code",
   "execution_count": 1,
   "metadata": {},
   "outputs": [],
   "source": [
    "my_boolean = True\n",
    "\n",
    "my_integer = 10\n",
    "my_float = 5.\n",
    "\n",
    "my_string = \"hey there\"  # You can also use single-quotes \"'\".\n",
    "\n",
    "my_no_value_object = None"
   ]
  },
  {
   "cell_type": "markdown",
   "metadata": {},
   "source": [
    "You can find out a type of a variable using function `type(...)`."
   ]
  },
  {
   "cell_type": "code",
   "execution_count": 2,
   "metadata": {},
   "outputs": [
    {
     "data": {
      "text/plain": [
       "float"
      ]
     },
     "execution_count": 2,
     "metadata": {},
     "output_type": "execute_result"
    }
   ],
   "source": [
    "type(my_float)"
   ]
  },
  {
   "cell_type": "markdown",
   "metadata": {},
   "source": [
    "There are also sequence types such as <span style=\"color:green\"> list </span>, <span style=\"color:green\"> tuple </span> and <span style=\"color:green\"> range </span>. The former two define collections of some objects, and the latter one defines a range between two integer numbers. Key differences between lists and tuples:\n",
    "- `List []`: Mutable → you can change it after creation (add, remove, modify elements)\n",
    "- `Tuple ()`: Immutable → once created, it cannot be changed (slightly faster and use less memory than lists)\n",
    "- `Both` lists and tuples can hold elements of different data types"
   ]
  },
  {
   "cell_type": "code",
   "execution_count": 4,
   "metadata": {},
   "outputs": [],
   "source": [
    "my_list = [0.1, 0.33, 0.5]\n",
    "my_tuple = (\n",
    "    \"Ramon Trias Fargas, 25-27\", \n",
    "    \"Roc Boronat, 138\", \n",
    "    \"Carrer de la Mercè, 12\",\n",
    "    \"Doctor Aiguader, 80\", \n",
    "    \"Passeig Pujades, 1\", \n",
    "    \"Balmes, 132-134\"\n",
    ")\n",
    "my_range = range(10)\n",
    "\n",
    "my_set = set"
   ]
  },
  {
   "cell_type": "code",
   "execution_count": 5,
   "metadata": {},
   "outputs": [
    {
     "data": {
      "text/plain": [
       "(2, 'k', True)"
      ]
     },
     "execution_count": 5,
     "metadata": {},
     "output_type": "execute_result"
    }
   ],
   "source": [
    "tupple = (2, \"k\", True)\n",
    "tupple"
   ]
  },
  {
   "cell_type": "code",
   "execution_count": 6,
   "metadata": {},
   "outputs": [
    {
     "data": {
      "text/plain": [
       "range"
      ]
     },
     "execution_count": 6,
     "metadata": {},
     "output_type": "execute_result"
    }
   ],
   "source": [
    "type(my_range)"
   ]
  },
  {
   "cell_type": "markdown",
   "metadata": {},
   "source": [
    "Select several elements from a sequence using slicing. An expression defining a slice may have a form like `start:stop` or `start:stop:step`. This construction indicates that every `step`-th entry starting from the one with index `start` (including) is taken up until index `stop` (excluded).\n",
    "\n",
    "Run the examples below in separate cells. Is there a way to revert the list by using only slicing?"
   ]
  },
  {
   "cell_type": "code",
   "execution_count": 8,
   "metadata": {},
   "outputs": [
    {
     "data": {
      "text/plain": [
       "['a', 'b', 'c']"
      ]
     },
     "execution_count": 8,
     "metadata": {},
     "output_type": "execute_result"
    }
   ],
   "source": [
    "my_list = ['a', 'b', 'c', 'd', 'e']\n",
    "my_list[0:3]"
   ]
  },
  {
   "cell_type": "code",
   "execution_count": 9,
   "metadata": {},
   "outputs": [
    {
     "data": {
      "text/plain": [
       "['a', 'b', 'c']"
      ]
     },
     "execution_count": 9,
     "metadata": {},
     "output_type": "execute_result"
    }
   ],
   "source": [
    "my_list = ['a', 'b', 'c', 'd', 'e']\n",
    "my_list[:3]"
   ]
  },
  {
   "cell_type": "code",
   "execution_count": 10,
   "metadata": {},
   "outputs": [
    {
     "data": {
      "text/plain": [
       "['b', 'c', 'd', 'e']"
      ]
     },
     "execution_count": 10,
     "metadata": {},
     "output_type": "execute_result"
    }
   ],
   "source": [
    "my_list = ['a', 'b', 'c', 'd', 'e']\n",
    "my_list[1:]"
   ]
  },
  {
   "cell_type": "code",
   "execution_count": 11,
   "metadata": {},
   "outputs": [
    {
     "data": {
      "text/plain": [
       "['a', 'c', 'e']"
      ]
     },
     "execution_count": 11,
     "metadata": {},
     "output_type": "execute_result"
    }
   ],
   "source": [
    "my_list = ['a', 'b', 'c', 'd', 'e']\n",
    "my_list[::2]"
   ]
  },
  {
   "cell_type": "code",
   "execution_count": 12,
   "metadata": {},
   "outputs": [
    {
     "data": {
      "text/plain": [
       "['d', 'e']"
      ]
     },
     "execution_count": 12,
     "metadata": {},
     "output_type": "execute_result"
    }
   ],
   "source": [
    "my_list = ['a', 'b', 'c', 'd', 'e']\n",
    "my_list[-2:]"
   ]
  },
  {
   "cell_type": "markdown",
   "metadata": {},
   "source": [
    "Sets set themselves apart: \n",
    "- automatically removes duplicates\n",
    "- unordered → no guaranteed order; items may appear in a different sequence --> no indexing or slicing\n",
    "- mutable (you can add/remove items), but its elements must be immutable (e.g., you can’t put a list or dictionary inside a set)\n",
    "- can perform set operations (union, intersection, difference)"
   ]
  },
  {
   "cell_type": "code",
   "execution_count": 13,
   "metadata": {},
   "outputs": [
    {
     "name": "stdout",
     "output_type": "stream",
     "text": [
      "{1, 2, 3}\n",
      "{1, 2, 3, 4, 5}\n",
      "{3}\n",
      "{1, 2}\n"
     ]
    }
   ],
   "source": [
    "# Set\n",
    "my_set = {1, 2, 2, 3}\n",
    "print(my_set)         # {1, 2, 3} → duplicates removed\n",
    "\n",
    "# Set operations\n",
    "a = {1, 2, 3}\n",
    "b = {3, 4, 5}\n",
    "print(a | b)          # union → {1, 2, 3, 4, 5}\n",
    "print(a & b)          # intersection → {3}\n",
    "print(a - b)          # difference → {1, 2}"
   ]
  },
  {
   "cell_type": "markdown",
   "metadata": {},
   "source": [
    "### Overwriting vs copying "
   ]
  },
  {
   "cell_type": "code",
   "execution_count": 16,
   "metadata": {},
   "outputs": [
    {
     "name": "stdout",
     "output_type": "stream",
     "text": [
      "[1]\n"
     ]
    }
   ],
   "source": [
    "a = [1]\n",
    "b = a\n",
    "print(b)"
   ]
  },
  {
   "cell_type": "markdown",
   "metadata": {},
   "source": [
    "What is `b`? What will happen to `b` if we overwrite the value in `a`?\n"
   ]
  },
  {
   "cell_type": "code",
   "execution_count": 17,
   "metadata": {},
   "outputs": [
    {
     "name": "stdout",
     "output_type": "stream",
     "text": [
      "[2]\n"
     ]
    }
   ],
   "source": [
    "a[0] = 2\n",
    "print(b)"
   ]
  },
  {
   "cell_type": "markdown",
   "metadata": {},
   "source": [
    "To prevent overwriting, we can instead create a copy. Try it below.\n",
    "\n",
    "If you are interested in exploring more: The `deepcopy` function in the `copy` package which allows you to make proper copies of collections which contain objects (e.g. lists of lists). You can compare this to what would have happened when only using `copy`.\n"
   ]
  },
  {
   "cell_type": "code",
   "execution_count": 18,
   "metadata": {},
   "outputs": [],
   "source": [
    "from copy import copy  # no need to uv add\n",
    "\n",
    "a = [1]\n",
    "b = copy(a) # another way of doing a copy of the list would be: b = a[:]"
   ]
  },
  {
   "cell_type": "code",
   "execution_count": 19,
   "metadata": {},
   "outputs": [
    {
     "name": "stdout",
     "output_type": "stream",
     "text": [
      "a = [2], b = [1]\n"
     ]
    }
   ],
   "source": [
    "a[0] = 2\n",
    "print(f\"a = {a}, b = {b}\")"
   ]
  },
  {
   "cell_type": "code",
   "execution_count": 22,
   "metadata": {},
   "outputs": [
    {
     "name": "stdout",
     "output_type": "stream",
     "text": [
      "a = [[3], [2]], b = [[1], [2]]\n"
     ]
    }
   ],
   "source": [
    "from copy import deepcopy\n",
    "\n",
    "a = [[1], [2]]\n",
    "b = deepcopy(a)\n",
    "a[0][0] = 3\n",
    "print(f\"a = {a}, b = {b}\")"
   ]
  },
  {
   "cell_type": "markdown",
   "metadata": {},
   "source": [
    "If I put copy then b changes with a"
   ]
  },
  {
   "cell_type": "markdown",
   "metadata": {},
   "source": [
    "### Operations with numbers and more"
   ]
  },
  {
   "cell_type": "code",
   "execution_count": 28,
   "metadata": {},
   "outputs": [
    {
     "name": "stdout",
     "output_type": "stream",
     "text": [
      "8.0\n"
     ]
    }
   ],
   "source": [
    "print(2 * 3 + (5 - 1) / 2 )"
   ]
  },
  {
   "cell_type": "markdown",
   "metadata": {},
   "source": [
    "The *power operator* in python is `**`. The *integer division* operation `left_operand // right_operand` returns an integer part of the devision of the left operand by the right operand. The *modulo* operation `left_operand % right_operand` returns a reminder of the devision of the left operand by the right operand."
   ]
  },
  {
   "cell_type": "code",
   "execution_count": 23,
   "metadata": {},
   "outputs": [
    {
     "name": "stdout",
     "output_type": "stream",
     "text": [
      "1329227995784915872903807060280344576\n",
      "332306998946228968225951765070086144\n",
      "0\n"
     ]
    }
   ],
   "source": [
    "# print a result of taking 4 to the power of 60:\n",
    "print(4 ** 60)\n",
    "\n",
    "# find an integer part of devision of the previous quantity by 4 and print it:\n",
    "print(4 ** 60 // 4)\n",
    "\n",
    "# see what is a reminder of the devision of the previous value by 2:\n",
    "print(4 ** 60 // 4 % 2)"
   ]
  },
  {
   "cell_type": "markdown",
   "metadata": {},
   "source": [
    "Python also allows the application of certain operands to non-numerical objects:"
   ]
  },
  {
   "cell_type": "code",
   "execution_count": 24,
   "metadata": {},
   "outputs": [
    {
     "name": "stdout",
     "output_type": "stream",
     "text": [
      "hello_my_friend\n",
      "['do', 'I', 'know', 'you']\n",
      "('Just', 'the', 'two', 'of', 'us')\n",
      "doubledouble\n",
      "[1, 2, 3, 1, 2, 3]\n",
      "('j', 'a', 'j', 'a')\n"
     ]
    }
   ],
   "source": [
    "# add strings \n",
    "print('hello' + \"_my_\" + 'friend')\n",
    "\n",
    "# add lists\n",
    "print(['do', 'I']+ ['know', \"you\"])\n",
    "\n",
    "# add tuples\n",
    "print((\"Just\", \"the\", \"two\") + (\"of\", \"us\"))\n",
    "\n",
    "# multiply string\n",
    "print(\"double\" * 2)\n",
    "\n",
    "# multiply list\n",
    "print([1, 2, 3] * 2)\n",
    "\n",
    "\n",
    "# multiply tuple\n",
    "print(('j', 'a') * 2)"
   ]
  },
  {
   "cell_type": "markdown",
   "metadata": {},
   "source": [
    "To perform numerical comparison, we can use the following operators: `>` (greater), `<` (less), `>=` (greater or equal), `<=` (less or equal), `==` (equal), `!=` (not equal). Try all operators out on different objetcs."
   ]
  },
  {
   "cell_type": "code",
   "execution_count": 25,
   "metadata": {},
   "outputs": [
    {
     "data": {
      "text/plain": [
       "False"
      ]
     },
     "execution_count": 25,
     "metadata": {},
     "output_type": "execute_result"
    }
   ],
   "source": [
    "7 > 8"
   ]
  },
  {
   "cell_type": "code",
   "execution_count": 26,
   "metadata": {},
   "outputs": [
    {
     "data": {
      "text/plain": [
       "True"
      ]
     },
     "execution_count": 26,
     "metadata": {},
     "output_type": "execute_result"
    }
   ],
   "source": [
    "'Brexit' == 'Brexit'"
   ]
  },
  {
   "cell_type": "markdown",
   "metadata": {},
   "source": [
    "There are also *identity comparisons*: `is` and `is not`. They will be quite helpful when you process a real data. For example, you can check whether a variable has value or not:"
   ]
  },
  {
   "cell_type": "code",
   "execution_count": 27,
   "metadata": {},
   "outputs": [
    {
     "name": "stdout",
     "output_type": "stream",
     "text": [
      "The variable has a value: True\n"
     ]
    }
   ],
   "source": [
    "variable = 5\n",
    "\n",
    "print(\"The variable has a value:\", variable is not None)"
   ]
  },
  {
   "cell_type": "markdown",
   "metadata": {},
   "source": [
    "### Boolean"
   ]
  },
  {
   "cell_type": "markdown",
   "metadata": {},
   "source": [
    "Logical \"and\" test is done by `and` literal, logical \"or\" test -- by `or`. Logical negation is done by `not` literal. See the examples below: "
   ]
  },
  {
   "cell_type": "code",
   "execution_count": 28,
   "metadata": {},
   "outputs": [
    {
     "name": "stdout",
     "output_type": "stream",
     "text": [
      "False\n",
      "True\n",
      "False\n"
     ]
    }
   ],
   "source": [
    "print(True and False)\n",
    "\n",
    "print(True or False)\n",
    "\n",
    "print(not True)"
   ]
  },
  {
   "cell_type": "markdown",
   "metadata": {},
   "source": [
    "### Type conversion"
   ]
  },
  {
   "cell_type": "markdown",
   "metadata": {},
   "source": [
    "There are in-built functions that convert a variable to another type. They only work if the provided variable is convertible to the suggested type.\n",
    "\n",
    "Will you be able to convert `float_to_string` directly to integer?"
   ]
  },
  {
   "cell_type": "code",
   "execution_count": 29,
   "metadata": {},
   "outputs": [],
   "source": [
    "initial_integer = 5\n",
    "integer_to_float = float(initial_integer)\n",
    "float_to_string = str(integer_to_float)\n",
    "string_to_float = float(float_to_string)\n",
    "float_to_integer = int(string_to_float)"
   ]
  },
  {
   "cell_type": "markdown",
   "metadata": {},
   "source": [
    "Is not possible to convert a string directly to integer:"
   ]
  },
  {
   "cell_type": "code",
   "execution_count": 30,
   "metadata": {},
   "outputs": [
    {
     "ename": "ValueError",
     "evalue": "invalid literal for int() with base 10: '5.0'",
     "output_type": "error",
     "traceback": [
      "\u001b[31m---------------------------------------------------------------------------\u001b[39m",
      "\u001b[31mValueError\u001b[39m                                Traceback (most recent call last)",
      "\u001b[36mCell\u001b[39m\u001b[36m \u001b[39m\u001b[32mIn[30]\u001b[39m\u001b[32m, line 1\u001b[39m\n\u001b[32m----> \u001b[39m\u001b[32m1\u001b[39m \u001b[38;5;28;43mint\u001b[39;49m\u001b[43m(\u001b[49m\u001b[43mfloat_to_string\u001b[49m\u001b[43m)\u001b[49m\n",
      "\u001b[31mValueError\u001b[39m: invalid literal for int() with base 10: '5.0'"
     ]
    }
   ],
   "source": [
    "int(float_to_string)\n"
   ]
  },
  {
   "cell_type": "markdown",
   "metadata": {},
   "source": [
    "What are the boolean values implicity converted into?"
   ]
  },
  {
   "cell_type": "code",
   "execution_count": 35,
   "metadata": {},
   "outputs": [
    {
     "name": "stdout",
     "output_type": "stream",
     "text": [
      "5\n"
     ]
    }
   ],
   "source": [
    "print(True * 5 + False * -1)"
   ]
  },
  {
   "cell_type": "markdown",
   "metadata": {},
   "source": [
    "True is 1 and False is 0"
   ]
  },
  {
   "cell_type": "code",
   "execution_count": 36,
   "metadata": {},
   "outputs": [
    {
     "data": {
      "text/plain": [
       "{1, 2, 3}"
      ]
     },
     "execution_count": 36,
     "metadata": {},
     "output_type": "execute_result"
    }
   ],
   "source": [
    "list_to_convert = [1,2,2,2,3]\n",
    "converted_set = set(list_to_convert)\n",
    "converted_set"
   ]
  }
 ],
 "metadata": {
  "kernelspec": {
   "display_name": "brushup-2025",
   "language": "python",
   "name": "python3"
  },
  "language_info": {
   "codemirror_mode": {
    "name": "ipython",
    "version": 3
   },
   "file_extension": ".py",
   "mimetype": "text/x-python",
   "name": "python",
   "nbconvert_exporter": "python",
   "pygments_lexer": "ipython3",
   "version": "3.11.12"
  }
 },
 "nbformat": 4,
 "nbformat_minor": 2
}
